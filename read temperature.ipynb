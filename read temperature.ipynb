{
 "cells": [
  {
   "cell_type": "code",
   "execution_count": 5,
   "id": "187599f9",
   "metadata": {},
   "outputs": [
    {
     "name": "stdout",
     "output_type": "stream",
     "text": [
      "[1171.3858921527863, 111.423, 0.0]           \r"
     ]
    },
    {
     "ename": "KeyboardInterrupt",
     "evalue": "",
     "output_type": "error",
     "traceback": [
      "\u001b[0;31m---------------------------------------------------------------------------\u001b[0m",
      "\u001b[0;31mKeyboardInterrupt\u001b[0m                         Traceback (most recent call last)",
      "Cell \u001b[0;32mIn[5], line 58\u001b[0m\n\u001b[1;32m     49\u001b[0m \u001b[38;5;28mprint\u001b[39m(row, \u001b[38;5;124m'\u001b[39m\u001b[38;5;124m        \u001b[39m\u001b[38;5;124m'\u001b[39m, end\u001b[38;5;241m=\u001b[39m\u001b[38;5;124m'\u001b[39m\u001b[38;5;130;01m\\r\u001b[39;00m\u001b[38;5;124m'\u001b[39m)\n\u001b[1;32m     50\u001b[0m \u001b[38;5;66;03m#ax.scatter(timeStamp[-1], temp[-1], color='red', \u001b[39;00m\n\u001b[1;32m     51\u001b[0m \u001b[38;5;66;03m#           linewidth=1, marker=\"v\", s= 40, \u001b[39;00m\n\u001b[1;32m     52\u001b[0m \u001b[38;5;66;03m#           edgecolors='black')\u001b[39;00m\n\u001b[0;32m   (...)\u001b[0m\n\u001b[1;32m     56\u001b[0m \u001b[38;5;66;03m#    writer = csv.writer(csvfile)    \u001b[39;00m\n\u001b[1;32m     57\u001b[0m \u001b[38;5;66;03m#    writer.writerow(row)\u001b[39;00m\n\u001b[0;32m---> 58\u001b[0m \u001b[43mtime\u001b[49m\u001b[38;5;241;43m.\u001b[39;49m\u001b[43msleep\u001b[49m\u001b[43m(\u001b[49m\u001b[38;5;241;43m1\u001b[39;49m\u001b[43m)\u001b[49m\n",
      "\u001b[0;31mKeyboardInterrupt\u001b[0m: "
     ]
    }
   ],
   "source": [
    "import time\n",
    "import serial\n",
    "import csv\n",
    "import matplotlib.pylab as plt\n",
    "from matplotlib import colors\n",
    "from IPython import display\n",
    "%matplotlib inline\n",
    "\n",
    "def sendcmd(command, resp=True):\n",
    "    ser = serial.Serial(\n",
    "        port='/dev/ttyUSB0',\n",
    "        baudrate=57600,\n",
    "        parity=serial.PARITY_ODD,\n",
    "        stopbits=serial.STOPBITS_ONE,\n",
    "        bytesize=serial.SEVENBITS\n",
    "    )\n",
    "    if ser.isOpen() == 0:\n",
    "        ser.open()\n",
    "    comando = command + '\\r\\n'\n",
    "    #print('comando: ' + comando)\n",
    "    ser.write(comando.encode())  # Encode the command as bytes before writing\n",
    "    out = b''  # Initialize out as bytes\n",
    "    time.sleep(0.5)  # Wait one second before reading output\n",
    "    while ser.inWaiting() > 0:\n",
    "        out += ser.read(1)\n",
    "    ser.close()\n",
    "    return out.decode()  # Decode bytes into a string before returning\n",
    "\n",
    "#write to csv\n",
    "filename = \"Results/temperaturedata.csv\"\n",
    "fileheaders = ['time', 'temp', 'output']  \n",
    "#with open(filename, 'w', newline='') as csvfile:  \n",
    "#    writer = csv.writer(csvfile) \n",
    "#    writer.writerow(fileheaders)\n",
    "\n",
    "#fig, ax = plt.subplots()\n",
    "#fig.set_size_inches(7, 5)\n",
    "#ax.set_xlim(0, timeLimit +10) \n",
    "#ax.set_ylim(103.0, 103.1) #changed from 1000\n",
    "#ax.set_xlabel('time (seconds)', size=12)\n",
    "#ax.set_ylabel('temperature (Kelvin)', size=12)\n",
    "timeStamp = []; temp = []; output = []\n",
    "t_start = time.time()\n",
    "while True:  \n",
    "    timeStamp.append(time.time() - t_start)\n",
    "    temp.append(float(sendcmd('KRDG? A')))\n",
    "    output.append(float(sendcmd('MOUT? 1')))\n",
    "    row = [timeStamp[-1], temp[-1], output[-1]]\n",
    "    print(row, '        ', end='\\r')\n",
    "    #ax.scatter(timeStamp[-1], temp[-1], color='red', \n",
    "    #           linewidth=1, marker=\"v\", s= 40, \n",
    "    #           edgecolors='black')\n",
    "    #display.display(plt.gcf())\n",
    "    #display.clear_output(wait=True)\n",
    "    #with open(filename, 'a', newline='') as csvfile:  \n",
    "    #    writer = csv.writer(csvfile)    \n",
    "    #    writer.writerow(row)\n",
    "    time.sleep(1)"
   ]
  }
 ],
 "metadata": {
  "kernelspec": {
   "display_name": "Python 3 (ipykernel)",
   "language": "python",
   "name": "python3"
  },
  "language_info": {
   "codemirror_mode": {
    "name": "ipython",
    "version": 3
   },
   "file_extension": ".py",
   "mimetype": "text/x-python",
   "name": "python",
   "nbconvert_exporter": "python",
   "pygments_lexer": "ipython3",
   "version": "3.8.10"
  }
 },
 "nbformat": 4,
 "nbformat_minor": 5
}
