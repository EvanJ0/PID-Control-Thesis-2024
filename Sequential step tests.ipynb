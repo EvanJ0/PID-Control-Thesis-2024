{
 "cells": [
  {
   "cell_type": "code",
   "execution_count": 1,
   "id": "b5d99490",
   "metadata": {},
   "outputs": [
    {
     "data": {
      "text/html": [
       "<style>.container { width:100% !important; }</style>"
      ],
      "text/plain": [
       "<IPython.core.display.HTML object>"
      ]
     },
     "metadata": {},
     "output_type": "display_data"
    }
   ],
   "source": [
    "from IPython.display import display, HTML\n",
    "display(HTML(\"<style>.container { width:100% !important; }</style>\"))"
   ]
  },
  {
   "cell_type": "code",
   "execution_count": 2,
   "id": "9e95136e",
   "metadata": {
    "scrolled": true
   },
   "outputs": [],
   "source": [
    "import time\n",
    "import serial\n",
    "import csv\n",
    "import numpy as np\n",
    "import matplotlib.pylab as plt\n",
    "from matplotlib import colors\n",
    "from IPython import display\n",
    "import statistics\n",
    "\n",
    "def sendcmd(command, resp=True):\n",
    "    ser = serial.Serial(\n",
    "        port='/dev/ttyUSB0',\n",
    "        baudrate=57600,\n",
    "        parity=serial.PARITY_ODD,\n",
    "        stopbits=serial.STOPBITS_ONE,\n",
    "        bytesize=serial.SEVENBITS\n",
    "    )\n",
    "    if ser.isOpen() == 0:\n",
    "        ser.open()\n",
    "    comando = command + '\\r\\n'\n",
    "    #print('comando: ' + comando)\n",
    "    ser.write(comando.encode())  # Encode the command as bytes before writing\n",
    "    out = b''  # Initialize out as bytes\n",
    "    time.sleep(0.1)  # Wait before reading output\n",
    "    while ser.inWaiting() > 0:\n",
    "        out += ser.read(1)\n",
    "    ser.close()\n",
    "    return out.decode()  # Decode bytes into a string before returning\n",
    "\n",
    "def printVals(timeStamp, temp):\n",
    "    if isinstance(slope, float) == False:\n",
    "        print(end='\\x1b[2K') #clear last line\n",
    "        print('time: ', round(timeStamp[-1],2), \n",
    "              ' temp: ', round(temp[-1],3),\n",
    "              ' output: ', round(newOut,2),\n",
    "              end='\\r')\n",
    "        row = [timeStamp[-1], temp[-1], newOut]\n",
    "    else:\n",
    "        print(end='\\x1b[2K') #clear last line\n",
    "        print('time: ', round(timeStamp[-1],2),\n",
    "              ' temp: ', round(temp[-1],3),\n",
    "              ' output: ', round(newOut,2),\n",
    "              ' slope: ', round(slope,6),\n",
    "              ' variance: ', round(varTemp,6),\n",
    "              end='\\r')\n",
    "        row = [timeStamp[-1], temp[-1], newOut, slope, varTemp]\n",
    "    return row"
   ]
  },
  {
   "cell_type": "code",
   "execution_count": 3,
   "id": "1858561c",
   "metadata": {},
   "outputs": [
    {
     "name": "stdout",
     "output_type": "stream",
     "text": [
      "[0, 5, 10, 15, 20, 25, 30, 35, 40, 42, 44, 46, 48, 50, 51, 52, 53, 54, 50.0, 50.5, 51.0, 51.5, 52.0, 52.5, 53.0, 53.5, 54.0, 54.5, 55.0, 55.5, 56.0, 56.5, 57.0, 57.5, 58.0, 58.5, 59.0, 59.5, 60.0]\n"
     ]
    },
    {
     "ename": "SerialException",
     "evalue": "could not open port '/dev/ttyUSB0': FileNotFoundError(2, 'The system cannot find the path specified.', None, 3)",
     "output_type": "error",
     "traceback": [
      "\u001b[1;31m---------------------------------------------------------------------------\u001b[0m",
      "\u001b[1;31mSerialException\u001b[0m                           Traceback (most recent call last)",
      "Cell \u001b[1;32mIn[3], line 29\u001b[0m\n\u001b[0;32m     25\u001b[0m timeInterval \u001b[38;5;241m=\u001b[39m \u001b[38;5;241m1\u001b[39m\n\u001b[0;32m     27\u001b[0m \u001b[38;5;28;01mfor\u001b[39;00m newOut \u001b[38;5;129;01min\u001b[39;00m out:\n\u001b[0;32m     28\u001b[0m     \u001b[38;5;66;03m#set next output\u001b[39;00m\n\u001b[1;32m---> 29\u001b[0m     \u001b[43msendcmd\u001b[49m\u001b[43m(\u001b[49m\u001b[38;5;124;43m'\u001b[39;49m\u001b[38;5;124;43mMOUT 1,\u001b[39;49m\u001b[38;5;124;43m'\u001b[39;49m\u001b[43m \u001b[49m\u001b[38;5;241;43m+\u001b[39;49m\u001b[43m \u001b[49m\u001b[38;5;28;43mstr\u001b[39;49m\u001b[43m(\u001b[49m\u001b[43mnewOut\u001b[49m\u001b[43m)\u001b[49m\u001b[43m)\u001b[49m\n\u001b[0;32m     30\u001b[0m     newOutIndex \u001b[38;5;241m=\u001b[39m \u001b[38;5;28mlen\u001b[39m(timeStamp)\n\u001b[0;32m     31\u001b[0m     \u001b[38;5;28mprint\u001b[39m(end\u001b[38;5;241m=\u001b[39m\u001b[38;5;124m'\u001b[39m\u001b[38;5;130;01m\\x1b\u001b[39;00m\u001b[38;5;124m[2K\u001b[39m\u001b[38;5;124m'\u001b[39m)\n",
      "Cell \u001b[1;32mIn[2], line 11\u001b[0m, in \u001b[0;36msendcmd\u001b[1;34m(command, resp)\u001b[0m\n\u001b[0;32m     10\u001b[0m \u001b[38;5;28;01mdef\u001b[39;00m \u001b[38;5;21msendcmd\u001b[39m(command, resp\u001b[38;5;241m=\u001b[39m\u001b[38;5;28;01mTrue\u001b[39;00m):\n\u001b[1;32m---> 11\u001b[0m     ser \u001b[38;5;241m=\u001b[39m \u001b[43mserial\u001b[49m\u001b[38;5;241;43m.\u001b[39;49m\u001b[43mSerial\u001b[49m\u001b[43m(\u001b[49m\n\u001b[0;32m     12\u001b[0m \u001b[43m        \u001b[49m\u001b[43mport\u001b[49m\u001b[38;5;241;43m=\u001b[39;49m\u001b[38;5;124;43m'\u001b[39;49m\u001b[38;5;124;43m/dev/ttyUSB0\u001b[39;49m\u001b[38;5;124;43m'\u001b[39;49m\u001b[43m,\u001b[49m\n\u001b[0;32m     13\u001b[0m \u001b[43m        \u001b[49m\u001b[43mbaudrate\u001b[49m\u001b[38;5;241;43m=\u001b[39;49m\u001b[38;5;241;43m57600\u001b[39;49m\u001b[43m,\u001b[49m\n\u001b[0;32m     14\u001b[0m \u001b[43m        \u001b[49m\u001b[43mparity\u001b[49m\u001b[38;5;241;43m=\u001b[39;49m\u001b[43mserial\u001b[49m\u001b[38;5;241;43m.\u001b[39;49m\u001b[43mPARITY_ODD\u001b[49m\u001b[43m,\u001b[49m\n\u001b[0;32m     15\u001b[0m \u001b[43m        \u001b[49m\u001b[43mstopbits\u001b[49m\u001b[38;5;241;43m=\u001b[39;49m\u001b[43mserial\u001b[49m\u001b[38;5;241;43m.\u001b[39;49m\u001b[43mSTOPBITS_ONE\u001b[49m\u001b[43m,\u001b[49m\n\u001b[0;32m     16\u001b[0m \u001b[43m        \u001b[49m\u001b[43mbytesize\u001b[49m\u001b[38;5;241;43m=\u001b[39;49m\u001b[43mserial\u001b[49m\u001b[38;5;241;43m.\u001b[39;49m\u001b[43mSEVENBITS\u001b[49m\n\u001b[0;32m     17\u001b[0m \u001b[43m    \u001b[49m\u001b[43m)\u001b[49m\n\u001b[0;32m     18\u001b[0m     \u001b[38;5;28;01mif\u001b[39;00m ser\u001b[38;5;241m.\u001b[39misOpen() \u001b[38;5;241m==\u001b[39m \u001b[38;5;241m0\u001b[39m:\n\u001b[0;32m     19\u001b[0m         ser\u001b[38;5;241m.\u001b[39mopen()\n",
      "File \u001b[1;32m~\\anaconda3\\lib\\site-packages\\serial\\serialwin32.py:33\u001b[0m, in \u001b[0;36mSerial.__init__\u001b[1;34m(self, *args, **kwargs)\u001b[0m\n\u001b[0;32m     31\u001b[0m \u001b[38;5;28mself\u001b[39m\u001b[38;5;241m.\u001b[39m_overlapped_read \u001b[38;5;241m=\u001b[39m \u001b[38;5;28;01mNone\u001b[39;00m\n\u001b[0;32m     32\u001b[0m \u001b[38;5;28mself\u001b[39m\u001b[38;5;241m.\u001b[39m_overlapped_write \u001b[38;5;241m=\u001b[39m \u001b[38;5;28;01mNone\u001b[39;00m\n\u001b[1;32m---> 33\u001b[0m \u001b[38;5;28msuper\u001b[39m(Serial, \u001b[38;5;28mself\u001b[39m)\u001b[38;5;241m.\u001b[39m\u001b[38;5;21m__init__\u001b[39m(\u001b[38;5;241m*\u001b[39margs, \u001b[38;5;241m*\u001b[39m\u001b[38;5;241m*\u001b[39mkwargs)\n",
      "File \u001b[1;32m~\\anaconda3\\lib\\site-packages\\serial\\serialutil.py:244\u001b[0m, in \u001b[0;36mSerialBase.__init__\u001b[1;34m(self, port, baudrate, bytesize, parity, stopbits, timeout, xonxoff, rtscts, write_timeout, dsrdtr, inter_byte_timeout, exclusive, **kwargs)\u001b[0m\n\u001b[0;32m    241\u001b[0m     \u001b[38;5;28;01mraise\u001b[39;00m \u001b[38;5;167;01mValueError\u001b[39;00m(\u001b[38;5;124m'\u001b[39m\u001b[38;5;124munexpected keyword arguments: \u001b[39m\u001b[38;5;132;01m{!r}\u001b[39;00m\u001b[38;5;124m'\u001b[39m\u001b[38;5;241m.\u001b[39mformat(kwargs))\n\u001b[0;32m    243\u001b[0m \u001b[38;5;28;01mif\u001b[39;00m port \u001b[38;5;129;01mis\u001b[39;00m \u001b[38;5;129;01mnot\u001b[39;00m \u001b[38;5;28;01mNone\u001b[39;00m:\n\u001b[1;32m--> 244\u001b[0m     \u001b[38;5;28;43mself\u001b[39;49m\u001b[38;5;241;43m.\u001b[39;49m\u001b[43mopen\u001b[49m\u001b[43m(\u001b[49m\u001b[43m)\u001b[49m\n",
      "File \u001b[1;32m~\\anaconda3\\lib\\site-packages\\serial\\serialwin32.py:64\u001b[0m, in \u001b[0;36mSerial.open\u001b[1;34m(self)\u001b[0m\n\u001b[0;32m     62\u001b[0m \u001b[38;5;28;01mif\u001b[39;00m \u001b[38;5;28mself\u001b[39m\u001b[38;5;241m.\u001b[39m_port_handle \u001b[38;5;241m==\u001b[39m win32\u001b[38;5;241m.\u001b[39mINVALID_HANDLE_VALUE:\n\u001b[0;32m     63\u001b[0m     \u001b[38;5;28mself\u001b[39m\u001b[38;5;241m.\u001b[39m_port_handle \u001b[38;5;241m=\u001b[39m \u001b[38;5;28;01mNone\u001b[39;00m    \u001b[38;5;66;03m# 'cause __del__ is called anyway\u001b[39;00m\n\u001b[1;32m---> 64\u001b[0m     \u001b[38;5;28;01mraise\u001b[39;00m SerialException(\u001b[38;5;124m\"\u001b[39m\u001b[38;5;124mcould not open port \u001b[39m\u001b[38;5;132;01m{!r}\u001b[39;00m\u001b[38;5;124m: \u001b[39m\u001b[38;5;132;01m{!r}\u001b[39;00m\u001b[38;5;124m\"\u001b[39m\u001b[38;5;241m.\u001b[39mformat(\u001b[38;5;28mself\u001b[39m\u001b[38;5;241m.\u001b[39mportstr, ctypes\u001b[38;5;241m.\u001b[39mWinError()))\n\u001b[0;32m     66\u001b[0m \u001b[38;5;28;01mtry\u001b[39;00m:\n\u001b[0;32m     67\u001b[0m     \u001b[38;5;28mself\u001b[39m\u001b[38;5;241m.\u001b[39m_overlapped_read \u001b[38;5;241m=\u001b[39m win32\u001b[38;5;241m.\u001b[39mOVERLAPPED()\n",
      "\u001b[1;31mSerialException\u001b[0m: could not open port '/dev/ttyUSB0': FileNotFoundError(2, 'The system cannot find the path specified.', None, 3)"
     ]
    }
   ],
   "source": [
    "run = '13'\n",
    "filenameData = \"tuningDataNB\" + str(run) + \".csv\"\n",
    "fileheadersData = ['time', 'temp', 'output', 'slope', 'variance']\n",
    "with open(filenameData, 'w', newline='') as csvfile:  \n",
    "    writer = csv.writer(csvfile) \n",
    "    writer.writerow(fileheadersData) \n",
    "timeStamp = []; temp = []\n",
    "#stdTempLim = 0.01\n",
    "\n",
    "#outVals = np.arange(55.0,61.0,1)\n",
    "#out = outVals.tolist()\n",
    "#out.append(0.0) #last output is 0 to cool down\n",
    "out = np.arange(0, 40, 5).tolist()\n",
    "out = out + np.arange(40, 50, 2).tolist()\n",
    "out = out + np.arange(50, 55, 1).tolist()\n",
    "out = out + np.arange(50, 60.5, 0.5).tolist()\n",
    "\n",
    "print(out)\n",
    "t_start = time.time()\n",
    "#offTime = 60 * 5 #time heater is off before starting\n",
    "checkRange = 60*10 #time to measure slope/std dev of temp over\n",
    "varTempLim = 0.005 #Variation allowed for steady temperature (K)\n",
    "slopeLim = varTempLim/checkRange #Net slope allowed for steady temperature\n",
    "timeLimit = 60*60*2 #maximum time to spend on one output\n",
    "timeInterval = 1\n",
    "\n",
    "for newOut in out:\n",
    "    #set next output\n",
    "    sendcmd('MOUT 1,' + str(newOut))\n",
    "    newOutIndex = len(timeStamp)\n",
    "    print(end='\\x1b[2K')\n",
    "    print(\"output \", newOut, \" at index \", newOutIndex, end='\\n') \n",
    "    #keep output until steady temperature is reached\n",
    "    slope = None\n",
    "    steady = False\n",
    "    while steady == False:\n",
    "        #update time and temp reading\n",
    "        timeStamp.append(time.time() - t_start)\n",
    "        temp.append(float(sendcmd('KRDG? A')))\n",
    "        #if (newOut == 0.0) and (timeStamp[-1] >= timeOff):\n",
    "        #    print(end='\\x1b[2K')\n",
    "        #    print('Turning heater on', end='\\n')\n",
    "        #    break\n",
    "        #if the checkRange time has passed since new output\n",
    "        if timeStamp[-1] - timeStamp[newOutIndex] >= checkRange:\n",
    "            #find index of data from checkRange seconds ago\n",
    "            timeDiffArr = np.absolute(np.array(timeStamp) \n",
    "                                      - timeStamp[-1] + checkRange)\n",
    "            index = timeDiffArr.argmin()\n",
    "            #calculate slope of temperature over the checkRange\n",
    "            trend = np.polyfit(timeStamp[index:], temp[index:], 1)\n",
    "            slope = trend[0]\n",
    "            varTemp = statistics.variance(temp[index:])\n",
    "            #stdTemp = np.std(temp[index:])\n",
    "            #If the slope is level and there is little variation\n",
    "            if ((abs(slope) <= slopeLim) and (varTemp <= varTempLim)):\n",
    "                #Then record end avg temp and move on to next output\n",
    "                steady = True\n",
    "                print(end='\\x1b[2K')\n",
    "                print(\"Steady temp reached.\", \n",
    "                      '                                         ', \n",
    "                      end='\\n')\n",
    "            #If too much time has passed and steady temp has not been reached\n",
    "            elif timeStamp[-1] - timeStamp[newOutIndex] >= timeLimit:\n",
    "                #Then record end avg temp and move on to next output\n",
    "                print(end='\\x1b[2K')\n",
    "                print(\"Steady temp not reached. Time limit exceeded.\", \n",
    "                      '                                 ',\n",
    "                      end='\\n')\n",
    "                break\n",
    "        #print current data and store it in a list\n",
    "        dataRow = printVals(timeStamp, temp)\n",
    "        #write time, temp, slope data to csv\n",
    "        with open(filenameData, 'a', newline='') as csvfile:  \n",
    "            writer = csv.writer(csvfile) \n",
    "            writer.writerow(dataRow)\n",
    "        time.sleep(timeInterval)\n",
    "print(\"done\")"
   ]
  },
  {
   "cell_type": "code",
   "execution_count": null,
   "id": "fb6b0dd8",
   "metadata": {},
   "outputs": [],
   "source": []
  }
 ],
 "metadata": {
  "kernelspec": {
   "display_name": "Python 3 (ipykernel)",
   "language": "python",
   "name": "python3"
  },
  "language_info": {
   "codemirror_mode": {
    "name": "ipython",
    "version": 3
   },
   "file_extension": ".py",
   "mimetype": "text/x-python",
   "name": "python",
   "nbconvert_exporter": "python",
   "pygments_lexer": "ipython3",
   "version": "3.10.9"
  }
 },
 "nbformat": 4,
 "nbformat_minor": 5
}
